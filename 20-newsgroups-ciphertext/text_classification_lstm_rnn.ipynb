{
  "cells": [
    {
      "metadata": {
        "_uuid": "8f2839f25d086af736a60e9eeb907d3b93b6e0e5",
        "_cell_guid": "b1076dfc-b9ad-4769-8c92-a6c4dae69d19",
        "trusted": true
      },
      "cell_type": "code",
      "source": "# This Python 3 environment comes with many helpful analytics libraries installed\n# It is defined by the kaggle/python docker image: https://github.com/kaggle/docker-python\n# For example, here's several helpful packages to load in \n\nimport numpy as np # linear algebra\nimport pandas as pd # data processing, CSV file I/O (e.g. pd.read_csv)\n\n# Input data files are available in the \"../input/\" directory.\n# For example, running this (by clicking run or pressing Shift+Enter) will list the files in the input directory\n\nimport os\nprint(os.listdir(\"../input\"))\n\n# Any results you write to the current directory are saved as output.",
      "execution_count": null,
      "outputs": []
    },
    {
      "metadata": {
        "_cell_guid": "79c7e3d0-c299-4dcb-8224-4455121ee9b0",
        "_uuid": "d629ff2d2480ee46fbb7e2d37f6b5fab8052498a",
        "trusted": true
      },
      "cell_type": "code",
      "source": "df_train = pd.read_csv('../input/train.csv')",
      "execution_count": null,
      "outputs": []
    },
    {
      "metadata": {
        "trusted": true,
        "_uuid": "9ec298e5e61c047b754fc7f84c2ed8b8b3321e22"
      },
      "cell_type": "code",
      "source": "df_train.head()",
      "execution_count": null,
      "outputs": []
    },
    {
      "metadata": {
        "trusted": true,
        "_uuid": "d2cebb88b1ab7bf258647a03f1e0945abd4dee67"
      },
      "cell_type": "code",
      "source": "import matplotlib.pyplot as plt\n%matplotlib inline ",
      "execution_count": null,
      "outputs": []
    },
    {
      "metadata": {
        "trusted": true,
        "_uuid": "b1c954b4a3ab9abff39d4c738100def7b68b6f61"
      },
      "cell_type": "code",
      "source": "df_train['target'].value_counts().plot(kind=\"bar\", figsize = (20,8))\nplt.xlabel('CLASSES')\nplt.ylabel('COUNTS')\nplt.title(\"DIFFERENT CLASS TYPE OF TARGET VARIABLE\")",
      "execution_count": null,
      "outputs": []
    },
    {
      "metadata": {
        "trusted": true,
        "_uuid": "cf96e4fa63bf34f55b9fda6b33659441a446f4ba"
      },
      "cell_type": "code",
      "source": "df_train['Length'] = df_train['ciphertext'].str.len()",
      "execution_count": null,
      "outputs": []
    },
    {
      "metadata": {
        "trusted": true,
        "_uuid": "5d2a6372e33998cba7e01e8c14d9d2336208db1c"
      },
      "cell_type": "code",
      "source": "df_train.head(n=20)",
      "execution_count": null,
      "outputs": []
    },
    {
      "metadata": {
        "trusted": true,
        "_uuid": "bf631a9e9f46cfa1d148ebc31487709ec97a36cd"
      },
      "cell_type": "code",
      "source": "df_train.describe()",
      "execution_count": null,
      "outputs": []
    },
    {
      "metadata": {
        "trusted": true,
        "_uuid": "bea23ce45b8841ac4e5d6fa57e051ffaf9a7a3e1"
      },
      "cell_type": "code",
      "source": "df_train['difficulty'].value_counts().plot(kind=\"bar\", figsize = (20,8))\nplt.xlabel('CLASSES')\nplt.ylabel('COUNTS')\nplt.title(\"DIFFERENT CLASS TYPE OF TARGET VARIABLE\")",
      "execution_count": null,
      "outputs": []
    },
    {
      "metadata": {
        "trusted": true,
        "_uuid": "c48798100eada7bedcc744220fe4e92ceab968f2"
      },
      "cell_type": "code",
      "source": "print(df_train['difficulty'].value_counts())",
      "execution_count": null,
      "outputs": []
    },
    {
      "metadata": {
        "trusted": true,
        "_uuid": "b020d12ce893ca427280a9c6dadf9e4cf5f7426d"
      },
      "cell_type": "code",
      "source": "train_diff1 = df_train[df_train['difficulty'] == 1]\ntrain_diff2 = df_train[df_train['difficulty'] == 2]\ntrain_diff3 = df_train[df_train['difficulty'] == 3]\ntrain_diff4 = df_train[df_train['difficulty'] == 4]\n\ntrain_diff1 = train_diff1.drop(['Id','difficulty'], axis = 1)\ntrain_diff2 = train_diff2.drop(['Id','difficulty'], axis = 1)\ntrain_diff3 = train_diff3.drop(['Id','difficulty'], axis = 1)\ntrain_diff4 = train_diff4.drop(['Id','difficulty'], axis = 1)\n\ntrain_diff1['ciphertext'] = train_diff1['ciphertext'].apply(lambda x: x.replace('1', ' '))\ntrain_diff2['ciphertext'] = train_diff2['ciphertext'].apply(lambda x: x.replace('8', ' '))\ntrain_diff3['ciphertext'] = train_diff3['ciphertext'].apply(lambda x: x.replace('8', ' '))\ntrain_diff4['ciphertext'] = train_diff4['ciphertext'].apply(lambda x: x.replace('8', ' '))\n\nprint(len(train_diff1), len(train_diff2), len(train_diff3), len(train_diff4))",
      "execution_count": null,
      "outputs": []
    },
    {
      "metadata": {
        "trusted": true,
        "_uuid": "e2afce6c7a58b44c2a0467d97f20e684c61d1026"
      },
      "cell_type": "code",
      "source": "train_diff = pd.concat([train_diff1, train_diff2, train_diff3, train_diff4])",
      "execution_count": null,
      "outputs": []
    },
    {
      "metadata": {
        "trusted": true,
        "_uuid": "4fc19e6bb544855d377fba7400035100109a3332"
      },
      "cell_type": "code",
      "source": "from keras.utils import np_utils\nfrom keras.preprocessing.text import Tokenizer\nfrom keras.preprocessing.sequence import pad_sequences\nfrom keras.models import Sequential\nfrom keras.layers import Dense, LSTM, Conv1D, MaxPooling1D, Dropout, Activation, CuDNNLSTM\nfrom keras.layers.embeddings import Embedding\nfrom sklearn.preprocessing import LabelEncoder, OneHotEncoder",
      "execution_count": null,
      "outputs": []
    },
    {
      "metadata": {
        "trusted": true,
        "_uuid": "26971b04234245251e8aea8db40b192fc2cffd98"
      },
      "cell_type": "code",
      "source": "max_len_text = 300\nembedding_dims = 300\nvocabulary_size = 20000\n\n# tokenizer = Tokenizer(filters=None, char_level=True, split=' ')\ntokenizer = Tokenizer(char_level=True)\ntokenizer.fit_on_texts(train_diff['ciphertext'])",
      "execution_count": null,
      "outputs": []
    },
    {
      "metadata": {
        "trusted": true,
        "_uuid": "ede3d507682d01dad00685e2e638f648b9fa9dda"
      },
      "cell_type": "code",
      "source": "sequences = tokenizer.texts_to_sequences(train_diff['ciphertext'])\ndata = pad_sequences(sequences, maxlen=max_len_text)",
      "execution_count": null,
      "outputs": []
    },
    {
      "metadata": {
        "trusted": true,
        "_uuid": "2293d96d0c0ed62345ac96edc40956d00b491c0b"
      },
      "cell_type": "code",
      "source": "dummy_y = np_utils.to_categorical(train_diff['target'])",
      "execution_count": null,
      "outputs": []
    },
    {
      "metadata": {
        "trusted": true,
        "_uuid": "e70c58495d6f0e1bfba43cca3e7f3777837395a0"
      },
      "cell_type": "code",
      "source": "num_units = 256\n\nmodel_lstm = Sequential()\nmodel_lstm.add(Embedding(vocabulary_size, embedding_dims, input_length=max_len_text))\nmodel_lstm.add(CuDNNLSTM(num_units))\nmodel_lstm.add(Dense(dummy_y.shape[1], activation='softmax'))\nmodel_lstm.compile(loss='categorical_crossentropy', optimizer='adam', metrics=['accuracy'])",
      "execution_count": null,
      "outputs": []
    },
    {
      "metadata": {
        "trusted": true,
        "_uuid": "d1c1cffce08986af1f17a6a1eb113b4e1ccea7bc"
      },
      "cell_type": "code",
      "source": "batch_size = 32\n# num_docs = 20000\nnum_docs = data.shape[0]\n\nmodel_lstm.fit(data[:num_docs], dummy_y[:num_docs], validation_split=0.15, batch_size=batch_size, epochs=5)",
      "execution_count": null,
      "outputs": []
    },
    {
      "metadata": {
        "trusted": true,
        "_uuid": "ed5c96b149e8bc39b7e7af27372cdef12365ff07"
      },
      "cell_type": "code",
      "source": "df_test = pd.read_csv('../input/test.csv')",
      "execution_count": null,
      "outputs": []
    },
    {
      "metadata": {
        "trusted": true,
        "_uuid": "772632b5302b9649b2d7370d7dd18a1b50ff6da9"
      },
      "cell_type": "code",
      "source": "print(df_test['difficulty'].value_counts())",
      "execution_count": null,
      "outputs": []
    },
    {
      "metadata": {
        "trusted": true,
        "_uuid": "86d40f11503a8f89997ddf7d411e8696f89bcf70"
      },
      "cell_type": "code",
      "source": "test_diff1 = df_test[df_test['difficulty'] == 1]\ntest_diff2 = df_test[df_test['difficulty'] == 2]\ntest_diff3 = df_test[df_test['difficulty'] == 3]\ntest_diff4 = df_test[df_test['difficulty'] == 4]\n\ntest_diff1 = test_diff1.drop(['Id','difficulty'], axis = 1)\ntest_diff2 = test_diff2.drop(['Id','difficulty'], axis = 1)\ntest_diff3 = test_diff3.drop(['Id','difficulty'], axis = 1)\ntest_diff4 = test_diff4.drop(['Id','difficulty'], axis = 1)\n\ntest_diff1['ciphertext'] = test_diff1['ciphertext'].apply(lambda x: x.replace('1', ' '))\ntest_diff2['ciphertext'] = test_diff2['ciphertext'].apply(lambda x: x.replace('8', ' '))\ntest_diff3['ciphertext'] = test_diff3['ciphertext'].apply(lambda x: x.replace('8', ' '))\ntest_diff4['ciphertext'] = test_diff4['ciphertext'].apply(lambda x: x.replace('8', ' '))\n\nprint(len(test_diff1), len(test_diff2), len(test_diff3), len(test_diff4))",
      "execution_count": null,
      "outputs": []
    },
    {
      "metadata": {
        "trusted": true,
        "_uuid": "9cec00188c7e45d96ec633bd480fb14017c6096e"
      },
      "cell_type": "code",
      "source": "test_diff = pd.concat([test_diff1, test_diff2, test_diff3, test_diff4])",
      "execution_count": null,
      "outputs": []
    },
    {
      "metadata": {
        "trusted": true,
        "_uuid": "76a252b0a49fc1f6fd39ba53c05e5b332bcbed59"
      },
      "cell_type": "code",
      "source": "test_sequences = tokenizer.texts_to_sequences(test_diff['ciphertext'])\ntest_data = pad_sequences(test_sequences, maxlen=max_len_text)",
      "execution_count": null,
      "outputs": []
    },
    {
      "metadata": {
        "trusted": true,
        "_uuid": "9be03718f8b2d77a5f9b086c6a0c288f805e0f7f"
      },
      "cell_type": "code",
      "source": "test_predictions = model_lstm.predict(test_data)",
      "execution_count": null,
      "outputs": []
    },
    {
      "metadata": {
        "trusted": true,
        "_uuid": "e46c9a363fa69ccc067effa6553f05facb71fb96"
      },
      "cell_type": "code",
      "source": "print(test_data.shape, test_predictions.shape)",
      "execution_count": null,
      "outputs": []
    },
    {
      "metadata": {
        "trusted": true,
        "_uuid": "8680788c96ee1cf81f93994adaa5f5a172751f6c"
      },
      "cell_type": "code",
      "source": "test_ID = df_test['Id']",
      "execution_count": null,
      "outputs": []
    },
    {
      "metadata": {
        "trusted": true,
        "_uuid": "644ed993f385f2665d73378e9f686abe87ccb151"
      },
      "cell_type": "code",
      "source": "final_predictions = np.argmax(test_predictions, axis=1)",
      "execution_count": null,
      "outputs": []
    },
    {
      "metadata": {
        "trusted": true,
        "_uuid": "28084a793413abbdc120c88d2c1d1d7ab0cb05a7"
      },
      "cell_type": "code",
      "source": "",
      "execution_count": null,
      "outputs": []
    },
    {
      "metadata": {
        "trusted": true,
        "_uuid": "efc0a801a92c0f239d2b4ff407278b734397cefe"
      },
      "cell_type": "code",
      "source": "sub = pd.DataFrame()\nsub['Id'] = test_ID\nsub['Predicted'] = final_predictions\nsub.to_csv('submission.csv',index=False)",
      "execution_count": null,
      "outputs": []
    },
    {
      "metadata": {
        "trusted": true,
        "_uuid": "44dcf7d2dd221d801fa117b9e8adb1471f9dee7d"
      },
      "cell_type": "code",
      "source": "os.listdir('.')",
      "execution_count": null,
      "outputs": []
    },
    {
      "metadata": {
        "trusted": true,
        "_uuid": "3e7c890e8d8c5688f560b4b3efd0ab7012eb72c8"
      },
      "cell_type": "code",
      "source": "df = pd.read_csv('submission.csv')",
      "execution_count": null,
      "outputs": []
    },
    {
      "metadata": {
        "trusted": true,
        "_uuid": "e7951cc6d7b88233b1bfdec0c50fbc3d236df6b8"
      },
      "cell_type": "code",
      "source": "df.head(n=10)",
      "execution_count": null,
      "outputs": []
    },
    {
      "metadata": {
        "trusted": true,
        "_uuid": "20c987cfbfdfdc432da0b9f141d6f67e1844e412"
      },
      "cell_type": "code",
      "source": "",
      "execution_count": null,
      "outputs": []
    }
  ],
  "metadata": {
    "kernelspec": {
      "display_name": "Python 3",
      "language": "python",
      "name": "python3"
    },
    "language_info": {
      "name": "python",
      "version": "3.6.6",
      "mimetype": "text/x-python",
      "codemirror_mode": {
        "name": "ipython",
        "version": 3
      },
      "pygments_lexer": "ipython3",
      "nbconvert_exporter": "python",
      "file_extension": ".py"
    }
  },
  "nbformat": 4,
  "nbformat_minor": 1
}