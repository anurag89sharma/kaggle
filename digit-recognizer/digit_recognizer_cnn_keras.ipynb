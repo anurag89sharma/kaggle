{
  "cells": [
    {
      "metadata": {
        "_uuid": "8f2839f25d086af736a60e9eeb907d3b93b6e0e5",
        "_cell_guid": "b1076dfc-b9ad-4769-8c92-a6c4dae69d19",
        "trusted": true
      },
      "cell_type": "code",
      "source": "# This Python 3 environment comes with many helpful analytics libraries installed\n# It is defined by the kaggle/python docker image: https://github.com/kaggle/docker-python\n# For example, here's several helpful packages to load in \nimport csv\nimport numpy as np # linear algebra\nimport pandas as pd # data processing, CSV file I/O (e.g. pd.read_csv)\n\n# Input data files are available in the \"../input/\" directory.\n# For example, running this (by clicking run or pressing Shift+Enter) will list the files in the input directory\n\nimport os\nprint(os.listdir(\"../input\"))\n\n# Any results you write to the current directory are saved as output.",
      "execution_count": null,
      "outputs": []
    },
    {
      "metadata": {
        "_cell_guid": "79c7e3d0-c299-4dcb-8224-4455121ee9b0",
        "_uuid": "d629ff2d2480ee46fbb7e2d37f6b5fab8052498a",
        "trusted": true
      },
      "cell_type": "code",
      "source": "train = pd.read_csv('../input/train.csv')\ntest = pd.read_csv('../input/test.csv')",
      "execution_count": null,
      "outputs": []
    },
    {
      "metadata": {
        "trusted": true,
        "_uuid": "e070512138401289155349abce35e7839dfd3278"
      },
      "cell_type": "code",
      "source": "y_train = train['label']\ny_train.shape\nX_train = train.drop(labels=['label'], axis=1)",
      "execution_count": null,
      "outputs": []
    },
    {
      "metadata": {
        "trusted": true,
        "_uuid": "7381ce79d5234ae3d6d9b2022326529347141fa3"
      },
      "cell_type": "code",
      "source": "X_train = X_train / 255\ntest = test / 255",
      "execution_count": null,
      "outputs": []
    },
    {
      "metadata": {
        "trusted": true,
        "_uuid": "1da6b0d1c779cd6b279188c19261f3911000e8bd"
      },
      "cell_type": "code",
      "source": "X_train = X_train.values.reshape(-1,28,28,1)\ntest = test.values.reshape(-1,28,28,1)",
      "execution_count": null,
      "outputs": []
    },
    {
      "metadata": {
        "trusted": true,
        "_uuid": "81e67ab0a999c39dafb2ff7df66f5882d53eea6e"
      },
      "cell_type": "code",
      "source": "import matplotlib.pyplot as plt\nimport matplotlib.image as mpimg\n%matplotlib inline\n\nfrom sklearn.model_selection import train_test_split\n    \nfrom keras.utils.np_utils import to_categorical # convert to one-hot-encoding\nfrom keras.models import Sequential\nfrom keras.layers import Dense, Dropout, Flatten, Conv2D, MaxPooling2D, GlobalAveragePooling2D\nfrom keras.optimizers import RMSprop, Adam\nfrom keras.preprocessing.image import ImageDataGenerator\nfrom keras.callbacks import ModelCheckpoint",
      "execution_count": null,
      "outputs": []
    },
    {
      "metadata": {
        "trusted": true,
        "_uuid": "899ab8dcd3ee2835ce4a4c1e2102c72e76414b63"
      },
      "cell_type": "code",
      "source": "y_train = to_categorical(y_train, num_classes=10)\nprint(y_train.shape)\nprint(X_train.shape)",
      "execution_count": null,
      "outputs": []
    },
    {
      "metadata": {
        "trusted": true,
        "_uuid": "ca4555a7eb07c1780213ce3e3707aeba95a2e7b5"
      },
      "cell_type": "code",
      "source": "X_train, X_val, Y_train, Y_val = train_test_split(X_train, y_train, test_size = 0.1, random_state=42)",
      "execution_count": null,
      "outputs": []
    },
    {
      "metadata": {
        "trusted": true,
        "_uuid": "a72eca1f3b500c9feacd06ec06de9411f24f250f"
      },
      "cell_type": "code",
      "source": "X_train.shape, Y_train.shape",
      "execution_count": null,
      "outputs": []
    },
    {
      "metadata": {
        "trusted": true,
        "_uuid": "64cceda75b629219391a7bf8b56d154cb8ff147d"
      },
      "cell_type": "code",
      "source": "y_train[0]",
      "execution_count": null,
      "outputs": []
    },
    {
      "metadata": {
        "trusted": true,
        "_uuid": "2d3880a2e4ba7f99e866befd156fb7d56b5156fa"
      },
      "cell_type": "code",
      "source": "g = plt.imshow(X_train[0][:,:,0])",
      "execution_count": null,
      "outputs": []
    },
    {
      "metadata": {
        "trusted": true,
        "_uuid": "06b04fbc0177ae00bd5f2c6b085ecc66391f4206"
      },
      "cell_type": "code",
      "source": "model = Sequential()\nmodel.add(Conv2D(filters=16, kernel_size=(3,3), padding=\"same\", activation=\"relu\", input_shape=X_train.shape[1:]))\nmodel.add(MaxPooling2D(pool_size=(2,2)))\nmodel.add(Conv2D(filters=32, kernel_size=(3,3), padding=\"same\", activation=\"relu\"))\nmodel.add(MaxPooling2D(pool_size=(2,2)))\nmodel.add(Conv2D(filters=64, kernel_size=(3,3), padding=\"same\", activation=\"relu\"))\nmodel.add(MaxPooling2D(pool_size=(2,2)))\nmodel.add(GlobalAveragePooling2D())\nmodel.add(Dense(128, activation='relu'))\nmodel.add(Dropout(0.2))\nmodel.add(Dense(10, activation='softmax'))\nmodel.summary()",
      "execution_count": null,
      "outputs": []
    },
    {
      "metadata": {
        "trusted": true,
        "_uuid": "5218ed17669bbb1a167aaaa2c1d3248bd659515e"
      },
      "cell_type": "code",
      "source": "model.compile(optimizer='rmsprop', loss='categorical_crossentropy', metrics=['accuracy'])",
      "execution_count": null,
      "outputs": []
    },
    {
      "metadata": {
        "trusted": true,
        "_uuid": "18bc112532fcc25bd1d94dbe8536241ac7da6bd6"
      },
      "cell_type": "code",
      "source": "output_dir_path = '../output/'\nif not os.path.exists(output_dir_path):\n    os.mkdir(output_dir_path)\n    \nos.listdir('../')",
      "execution_count": null,
      "outputs": []
    },
    {
      "metadata": {
        "trusted": true,
        "_uuid": "4d6480706cab96aed0dded470e97b1978f6247fd"
      },
      "cell_type": "code",
      "source": "epochs = 10\n\n# checkpointer = ModelCheckpoint(filepath='../input/saved_model.hdf5', verbose=1, save_best_only=True)\ncheckpointer = ModelCheckpoint('../output/{val_acc:.4f}.hdf5', monitor='val_acc', verbose=1, save_best_only=True, mode='auto')\n\nmodel.fit(X_train, Y_train, validation_data=(X_val, Y_val), epochs=epochs, \n          callbacks=[checkpointer], batch_size=20, verbose=1)",
      "execution_count": null,
      "outputs": []
    },
    {
      "metadata": {
        "trusted": true,
        "_uuid": "18760344320b2ee2ef4b21afef1c9198658f0c2a"
      },
      "cell_type": "code",
      "source": "os.listdir(output_dir_path)",
      "execution_count": null,
      "outputs": []
    },
    {
      "metadata": {
        "trusted": true,
        "_uuid": "6fff626f4786d47ed7fd1e5820f0fbb7613a7e00"
      },
      "cell_type": "code",
      "source": "def save_best_model(epoch, dir_path, num_ext, ext):\n    tmp_file_name = os.listdir(dir_path)\n    test = []\n    num_element = -num_ext\n\n    for x in range(0, len(tmp_file_name)):\n        test.append(tmp_file_name[x][:num_element])\n        float(test[x])\n\n    highest = max(test)\n\n    return str(highest) + ext\n\nbest = save_best_model(10, output_dir_path, 5, \".hdf5\")\n\nprint(best)",
      "execution_count": null,
      "outputs": []
    },
    {
      "metadata": {
        "trusted": true,
        "_uuid": "64d313f739ebb0cb6a88bb2d2a4895b871560946"
      },
      "cell_type": "code",
      "source": "model.load_weights(os.path.join(output_dir_path, best))",
      "execution_count": null,
      "outputs": []
    },
    {
      "metadata": {
        "trusted": true,
        "_uuid": "f7822c1fd723b2a5d19f18076c49b40013786192"
      },
      "cell_type": "code",
      "source": "model.weights",
      "execution_count": null,
      "outputs": []
    },
    {
      "metadata": {
        "trusted": true,
        "_uuid": "444e6661e1a26a818c885682c341d8a5c4e94f91"
      },
      "cell_type": "code",
      "source": "# predict results\nresults = model.predict(test)\n\n# select the indix with the maximum probability\nresults = np.argmax(results,axis = 1)\n\nresults = pd.Series(results,name=\"Label\")",
      "execution_count": null,
      "outputs": []
    },
    {
      "metadata": {
        "trusted": true,
        "_uuid": "baa3ed38a1d2f4d53155aaef3f01ea65fa165bf8"
      },
      "cell_type": "code",
      "source": "results.shape",
      "execution_count": null,
      "outputs": []
    },
    {
      "metadata": {
        "trusted": true,
        "_uuid": "30ab9b78b521c64c891f0a552e0cf36925a0e4d0"
      },
      "cell_type": "code",
      "source": "output = pd.concat([pd.Series(range(1,28001),name = \"ImageId\"),results],axis = 1)\n\noutput.to_csv(\"DigitRecognizerChallengeSub2.csv\",index=False)",
      "execution_count": null,
      "outputs": []
    },
    {
      "metadata": {
        "trusted": true,
        "_uuid": "423954d39b959eaa8bdf22bc595b49fa9bf47431"
      },
      "cell_type": "code",
      "source": "os.listdir('.')",
      "execution_count": null,
      "outputs": []
    },
    {
      "metadata": {
        "trusted": true,
        "_uuid": "3e6ea8143b7a4da33b2496aa3f561a8d9c6daa99"
      },
      "cell_type": "code",
      "source": "",
      "execution_count": null,
      "outputs": []
    }
  ],
  "metadata": {
    "kernelspec": {
      "display_name": "Python 3",
      "language": "python",
      "name": "python3"
    },
    "language_info": {
      "name": "python",
      "version": "3.6.6",
      "mimetype": "text/x-python",
      "codemirror_mode": {
        "name": "ipython",
        "version": 3
      },
      "pygments_lexer": "ipython3",
      "nbconvert_exporter": "python",
      "file_extension": ".py"
    }
  },
  "nbformat": 4,
  "nbformat_minor": 1
}